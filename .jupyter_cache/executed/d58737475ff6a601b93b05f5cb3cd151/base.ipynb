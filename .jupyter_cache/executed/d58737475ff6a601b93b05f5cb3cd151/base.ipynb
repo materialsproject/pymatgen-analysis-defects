{
 "cells": [
  {
   "cell_type": "code",
   "execution_count": 1,
   "metadata": {},
   "outputs": [],
   "source": [
    "from pathlib import Path\n",
    "\n",
    "TEST_FILES = Path(\"../../../tests/test_files\")"
   ]
  },
  {
   "cell_type": "code",
   "execution_count": 2,
   "metadata": {},
   "outputs": [
    {
     "name": "stdout",
     "output_type": "stream",
     "text": [
      "The bulk unit cell is the unique primitive WS cell\n"
     ]
    }
   ],
   "source": [
    "from pymatgen.analysis.defects.core import DefectComplex, Substitution, Vacancy\n",
    "from pymatgen.core import PeriodicSite, Species, Structure\n",
    "\n",
    "bulk = Structure.from_file(TEST_FILES / \"GaN.vasp\")\n",
    "if (\n",
    "    bulk.lattice == bulk.get_primitive_structure().lattice\n",
    "):  # check that you have the primitive structure\n",
    "    print(\"The bulk unit cell is the unique primitive WS cell\")"
   ]
  },
  {
   "cell_type": "code",
   "execution_count": 3,
   "metadata": {},
   "outputs": [],
   "source": [
    "ga_site0 = bulk.sites[0]\n",
    "ga_site1 = bulk.sites[1]\n",
    "n_site0 = bulk.sites[2]\n",
    "n_site1 = bulk.sites[3]\n",
    "\n",
    "mg_site0 = PeriodicSite(Species(\"Mg\"), ga_site0.frac_coords, bulk.lattice)\n",
    "mg_site1 = PeriodicSite(Species(\"Mg\"), ga_site1.frac_coords, bulk.lattice)"
   ]
  },
  {
   "cell_type": "code",
   "execution_count": 4,
   "metadata": {},
   "outputs": [
    {
     "name": "stdout",
     "output_type": "stream",
     "text": [
      "The two Mg_Ga defects are equivalent.\n"
     ]
    }
   ],
   "source": [
    "mg_ga_defect0 = Substitution(structure=bulk, site=mg_site0)\n",
    "mg_ga_defect1 = Substitution(structure=bulk, site=mg_site1)\n",
    "if mg_ga_defect0 == mg_ga_defect1:\n",
    "    print(\"The two Mg_Ga defects are equivalent.\")"
   ]
  },
  {
   "cell_type": "code",
   "execution_count": 5,
   "metadata": {},
   "outputs": [
    {
     "name": "stdout",
     "output_type": "stream",
     "text": [
      "The two vacancies v_Ga and v_N are not equivalent.\n",
      "The two vacancies v_N and v_N are equivalent.\n"
     ]
    }
   ],
   "source": [
    "vac_defect0 = Vacancy(structure=bulk, site=mg_site0)\n",
    "vac_defect1 = Vacancy(structure=bulk, site=n_site0)\n",
    "vac_defect2 = Vacancy(structure=bulk, site=n_site1)\n",
    "if vac_defect0 != vac_defect1:\n",
    "    print(\n",
    "        f\"The two vacancies {vac_defect0.name} and {vac_defect1.name} are not equivalent.\"\n",
    "    )\n",
    "\n",
    "if vac_defect2 == vac_defect1:\n",
    "    print(\n",
    "        f\"The two vacancies {vac_defect2.name} and {vac_defect1.name} are equivalent.\"\n",
    "    )"
   ]
  },
  {
   "cell_type": "code",
   "execution_count": 6,
   "metadata": {},
   "outputs": [],
   "source": [
    "def_comp0 = DefectComplex(defects=[mg_ga_defect0, vac_defect1])\n",
    "def_comp1 = DefectComplex(defects=[mg_ga_defect1, vac_defect1])\n",
    "def_comp2 = DefectComplex(defects=[mg_ga_defect1, vac_defect2])"
   ]
  },
  {
   "cell_type": "code",
   "execution_count": 7,
   "metadata": {},
   "outputs": [],
   "source": [
    "assert def_comp0 == def_comp2\n",
    "assert def_comp0 != def_comp1"
   ]
  },
  {
   "cell_type": "code",
   "execution_count": 8,
   "metadata": {},
   "outputs": [
    {
     "data": {
      "text/plain": [
       "128"
      ]
     },
     "execution_count": 8,
     "metadata": {},
     "output_type": "execute_result"
    }
   ],
   "source": [
    "sc_struct = mg_ga_defect0.get_supercell_structure()\n",
    "sc_struct.num_sites"
   ]
  },
  {
   "cell_type": "code",
   "execution_count": 9,
   "metadata": {},
   "outputs": [],
   "source": [
    "#sc_struct_smaller = mg_ga_defect0.get_supercell_structure(max_atoms=100)\n",
    "#sc_struct_smaller.num_sites"
   ]
  }
 ],
 "metadata": {
  "language_info": {
   "codemirror_mode": {
    "name": "ipython",
    "version": 3
   },
   "file_extension": ".py",
   "mimetype": "text/x-python",
   "name": "python",
   "nbconvert_exporter": "python",
   "pygments_lexer": "ipython3",
   "version": "3.10.9"
  },
  "vscode": {
   "interpreter": {
    "hash": "68485e4e4f6ba0276341f7d764a6dd3a7d31473cb629faa542bbbd38a80276a6"
   }
  }
 },
 "nbformat": 4,
 "nbformat_minor": 4
}