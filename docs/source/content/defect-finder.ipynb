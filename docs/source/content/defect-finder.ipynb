{
 "cells": [
  {
   "cell_type": "markdown",
   "id": "22bb4abc-3e14-40c0-92af-6269729a4d3a",
   "metadata": {},
   "source": [
    "# Defect Finder\n",
    "\n",
    "As you introduced a defect into a crystalline system, all of the atoms in the system will be subject to displacements\n",
    "during the atomic relaxation process. This can be especially problematic for native point defects, since the similar atoms in the simulation cell are technically fungible so split-vacancies and split-interstitials can be created with ill-defined positions.\n",
    "The `DefectSiteFinder` can be used to identify the location of the defect in a simulation cell without any prior knowledge of the how the defect is created.\n",
    "This is especially useful during database building since the location of the defect is now provence agnostic which means that the database requires less context information during the build process.\n",
    "\n",
    "To use the `DefectSiteFinder`, simply instantiate the class and call the `find_defect_fpos` method with the defective and pristine structures as arguments.  We show that the `DefectSiteFinder` can be used to identify the location of nitrogen vacancies in wz-GaN structure blow."
   ]
  },
  {
   "cell_type": "code",
   "execution_count": null,
   "id": "b6e1d6fa",
   "metadata": {},
   "outputs": [],
   "source": [
    "from pathlib import Path\n",
    "\n",
    "import numpy as np\n",
    "from pymatgen.io.vasp import Locpot\n",
    "\n",
    "TEST_FILES = Path(\"../../../tests/test_files\")\n",
    "import glob\n",
    "\n",
    "from pymatgen.analysis.defects.finder import DefectSiteFinder\n",
    "from pymatgen.core.structure import Structure\n",
    "\n",
    "base_struct = Structure.from_file(TEST_FILES / \"v_N_GaN/bulk/CONTCAR.gz\")\n",
    "finder = DefectSiteFinder()\n",
    "\n",
    "for q in range(-1, 3):\n",
    "    fname = f\"{str(TEST_FILES)}/v_N_GaN/q={q}/CONTCAR.gz\"\n",
    "    struct = Structure.from_file(fname)\n",
    "    fpos = finder.get_defect_fpos(defect_structure=struct, base_structure=base_struct)\n",
    "    fpos -= np.round(fpos)\n",
    "    print(fpos)"
   ]
  },
  {
   "cell_type": "markdown",
   "id": "873288d3",
   "metadata": {},
   "source": [
    "The last for `q=3` demonstrates that doing this in a smaller simulation cell with large distortions can be problematic so always double check your results.\n",
    "\n",
    "On a larger ZrO2 cell, the identified vacancy is shown\n",
    "\n",
    "<img src=\"https://raw.githubusercontent.com/materialsproject/pymatgen-analysis-defects/main/docs/source/_static/img/v_O_ZrO2_defect_finder.png\" width=\"800\"/>"
   ]
  },
  {
   "cell_type": "markdown",
   "id": "01e7e997",
   "metadata": {},
   "source": [
    "## How does it work?\n",
    "\n",
    "Structure matching procedure is as follows:\n",
    "\n",
    "1. Caclulate the anonymized SOAP vector for each symmetry distinct site in the pristine structure.\n",
    "2. Calculate the SOAP vector for each site in the defective structure.\n",
    "3. For each site in the defective structure, find the closest match in the pristine structure using the cosine similarity of the SOAP vectors. This cosine similarity becomes a measure of how defective the site is (how different from a bulk site).\n",
    "4. Rank the sites by the their defectiveness as defined above.\n",
    "5. Compute the periodic average of a subset of the most defective sites.\n",
    "\n",
    "So in a sense we are using SOAP to arrive at a distortion field for the defect structure and calculating the center of that distortion field.  This is a fairly straight-forward approach, but it seems to work well in practice."
   ]
  }
 ],
 "metadata": {
  "language_info": {
   "codemirror_mode": {
    "name": "ipython",
    "version": 3
   },
   "file_extension": ".py",
   "mimetype": "text/x-python",
   "name": "python",
   "nbconvert_exporter": "python",
   "pygments_lexer": "ipython3",
   "version": "3.9.16"
  }
 },
 "nbformat": 4,
 "nbformat_minor": 5
}
