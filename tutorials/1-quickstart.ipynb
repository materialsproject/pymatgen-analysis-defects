{
 "cells": [
  {
   "cell_type": "markdown",
   "id": "b42d1737-b49b-46ec-be70-d6b723160f1d",
   "metadata": {},
   "source": [
    "# Computing Radiative Capture Rates\n",
    "\n",
    "\n",
    "## Introduction\n",
    "\n",
    "The theory discussed here can be found in the following paper:\n",
    "\n",
    "```\n",
    "Dreyer, C. E., Alkauskas, A., Lyons, J. L., & Van de Walle, C. G. (2020). Radiative capture rates at deep defects from electronic structure calculations. Phys Rev B, 102(8), 085305. doi: 10.1103/PhysRevB.102.085305\n",
    "```\n",
    "\n",
    "The theory will be presented only for radiative capture but will be directly applicable to photo-excitation.\n",
    "\n",
    "\n",
    "The cature of an electron from the conduction band can be considered as the following process:\n",
    "\n",
    "$A^{0} + e^{-} \\rightarrow A^{-}$ .\n",
    "\n",
    "The radiative capture rate is given by:\n",
    "\n",
    "$R_{n} = C_{n}N_A^0n$ ,\n",
    "\n",
    "where $N_A^0$ is the concentraion of the neutral defect, n is the electron carrier concentration.\n",
    "\n",
    "A schematic of the process can be seen on the configuration-coordinate diagram:\n",
    "\n",
    "<img src=\"https://github.com/materialsproject/pymatgen-analysis-defects/blob/main/docs/source/_static/img/rad_capture_1.png?raw=true\" width=\"600\" />\n",
    "\n"
   ]
  },
  {
   "cell_type": "markdown",
   "id": "a914146c-c474-473f-8c7a-4337a158c68d",
   "metadata": {},
   "source": [
    "## Derivation\n",
    "\n",
    "\n",
    "If we assume that the electronic and vibronic wavefuntion is sperable (Born-Oppenheimer) approximation.\n",
    "\n",
    "$\\mathbf\\Psi(\\mathbf{Q}, \\mathbf{x}) = \\Psi(\\mathbf{x})\\chi(\\mathbf{\\mathbf Q})$ ,\n",
    "\n",
    "where:\n",
    "   - $\\Psi$: the electronic wavefunction.\n",
    "   - $\\chi$: The ionic wavefunction.\n",
    "   \n",
    "\n",
    "For $e^-$ capture the initial state is $A^0 + e^-$, and for simplicity let's just first assume that the initial states is the ground state of the simple harmonic oscillator (SHO) represented by the upper parabola.\n",
    "\n",
    "The optical transition is given by the momentum operator\n",
    "\n",
    "$ \\hat{\\mathbf P} = -i \\hbar \\sum_j \\frac{\\partial}{\\partial \\mathbf{x}_j} $\n",
    "\n",
    "<div class=\"alert alert-block alert-warning\"> \n",
    "    Trust me bro moment: if you assume that the Many-body wavefunction is a slater-determinant then the manybody matrix element will essentially see everything but the changing electron cancel.  So you can just replace the many-body electronic matrix element with the single particle matrix element $p_{if}$.\n",
    "</div>\n",
    "\n",
    "The luminescence intensity is given by:\n",
    "\n",
    "$ I(\\hbar \\omega) = \\frac{e^2 n_r \\eta_{\\rm sp} \\omega}{3 m^2 \\epsilon_0 \\pi c^3 \\hbar} \\left| p_{if} \\right|^2 \\sum_n \\left| \\left< \\chi_{i0} | \\chi_{fn}  \\right> \\right|^2 \\delta(E_{\\rm ZPL} - \\hbar \\omega_{fn} - \\hbar \\omega) $\n",
    "\n",
    "where:\n",
    "   - $n_r$: index of refraction.\n",
    "   - $\\eta_{\\rm sp}$: spin degeneracy factor\n",
    "        ```\n",
    "        doublet->(singlet|triplet): 0.5\n",
    "        singlet->doublet: 1.0\n",
    "        ```\n",
    "\n",
    "The capture coefficient is defined as\n",
    "\n",
    "$C_n = Vr$\n",
    "\n",
    "where $r$ (the luminescence rate) is the capture rate of one $e^-$ by one defect in a volume V.\n",
    "\n",
    "The total luminescence rate $r$ can be obtained by integrating over all energies ($\\hbar \\omega$):\n",
    "\n",
    "$ r = \\int d(\\hbar\\omega) \\, I(\\hbar \\omega) = \\frac{e^2 n_r \\eta_{\\rm sp} \\omega}{3 m^2 \\epsilon_0 \\pi c^3 \\hbar} \\sum_n \\left| \\left< \\chi_{i0} | \\chi_{fn}  \\right> \\right|^2 \\delta(E_{\\rm ZPL} - \\hbar \\omega_{fn} )$ \n",
    "\n"
   ]
  },
  {
   "cell_type": "markdown",
   "id": "84aa90c3-8eb8-40ce-bda6-3a813f16facf",
   "metadata": {},
   "source": [
    "## Renormalizing for simulation cell\n",
    "\n",
    "The volume defined by $1/N_{A}^0$ is going to be much larger than the size of the simulation cell $\\tilde V$.\n",
    "\n",
    "$C_{n} = \\eta_{\\rm sp}$"
   ]
  },
  {
   "cell_type": "markdown",
   "id": "0011adaa-bb6b-4646-ace7-b2b8bf862360",
   "metadata": {},
   "source": [
    "The prefactor should be\n",
    "\n",
    "$\\frac{2}{3}\\frac{e^2}{m \\hbar ^ 2 c^3 \\epsilon_0}$"
   ]
  },
  {
   "cell_type": "code",
   "execution_count": null,
   "id": "0678ee05-d0da-4e64-8575-97462ba257f8",
   "metadata": {},
   "outputs": [
    {
     "data": {
      "text/plain": [
       "7.080719200902919e+45"
      ]
     },
     "execution_count": null,
     "metadata": {},
     "output_type": "execute_result"
    }
   ],
   "source": [
    "from scipy.constants import hbar, c, epsilon_0, e, pi, electron_mass, eV\n",
    "2/3 *e**2/(hbar**2 * c**3 * epsilon_0 * electron_mass) "
   ]
  },
  {
   "cell_type": "markdown",
   "id": "bfc6ddc5-a004-409b-8a39-1cc951a596ee",
   "metadata": {},
   "source": [
    "Bohr radius in meters: 5.29177 x 10 -11\n",
    "\n",
    "$\\frac{4 \\pi \\epsilon_0 \\hbar^2}{m_e e^2}$"
   ]
  }
 ],
 "metadata": {
  "kernelspec": {
   "display_name": "mp",
   "language": "python",
   "name": "mp"
  },
  "language_info": {
   "codemirror_mode": {
    "name": "ipython",
    "version": 3
   },
   "file_extension": ".py",
   "mimetype": "text/x-python",
   "name": "python",
   "nbconvert_exporter": "python",
   "pygments_lexer": "ipython3",
   "version": "3.10.6"
  }
 },
 "nbformat": 4,
 "nbformat_minor": 5
}
