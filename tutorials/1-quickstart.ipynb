{
 "cells": [
  {
   "cell_type": "markdown",
   "metadata": {
    "tags": []
   },
   "source": [
    "# Quick Start\n",
    "\n",
    "## Installation\n",
    "\n",
    "The package can be installed from PyPI using `pip install pymatgen-analysis-defect`. \n",
    "\n",
    "Once installed, the different modules can be imported via the `pymatgen.analysis.defects` namespace.\n",
    "\n",
    "```python\n",
    "from pymatgen.analysis.defects import core, ccd, finder\n",
    "```\n",
    "\n",
    "To ensure that the namespace is installed properly run"
   ]
  },
  {
   "cell_type": "code",
   "execution_count": null,
   "metadata": {},
   "outputs": [],
   "source": [
    "from pymatgen.analysis.defects.core import __file__"
   ]
  },
  {
   "cell_type": "markdown",
   "metadata": {},
   "source": [
    "and look at the `__file__` variable to make sure that it is accessing the code from `pymatgen-analysis-defect` and not `pymatgen`."
   ]
  },
  {
   "cell_type": "markdown",
   "metadata": {},
   "source": [
    "## Definition of a defect\n",
    "\n",
    "Our code defines defects using a combination of bulk structure and sites.\n",
    "Since the bulk primitive structure is, in principle, unique up to arbitrary translations, equivalence of defects can be now easily checked using `StructureMatcher`.\n",
    "\n",
    "Below we show how you can create a basic substitutional defect from a `pymatgen.core.Structure` object by replacing one of the Ga atoms in GaN with Mg.\n"
   ]
  },
  {
   "cell_type": "code",
   "execution_count": null,
   "metadata": {},
   "outputs": [],
   "source": [
    "from pathlib import Path\n",
    "from pymatgen.analysis.defects.core import Substitution\n",
    "from pymatgen.core import Structure, PeriodicSite, Species\n",
    "TEST_FILES = Path(\"../tests/test_files\")"
   ]
  },
  {
   "cell_type": "code",
   "execution_count": null,
   "metadata": {},
   "outputs": [
    {
     "name": "stdout",
     "output_type": "stream",
     "text": [
      "Mg subsitituted on the Ga site at at site #0\n"
     ]
    }
   ],
   "source": [
    "gan_struct = Structure.from_file(TEST_FILES / \"GaN.vasp\")\n",
    "# make a substitution site\n",
    "ga_site = gan_struct[0]\n",
    "mg_site = PeriodicSite(Species(\"Mg\"), ga_site.frac_coords, gan_struct.lattice)\n",
    "# instantiate the defect object\n",
    "mg_ga = Substitution(structure=gan_struct, site=mg_site)\n",
    "print(mg_ga)"
   ]
  },
  {
   "cell_type": "code",
   "execution_count": null,
   "metadata": {},
   "outputs": [
    {
     "data": {
      "text/plain": [
       "Structure Summary\n",
       "Lattice\n",
       "    abc : 3.2162901334217344 3.2162901334217344 5.239962\n",
       " angles : 90.0 90.0 120.00000274450079\n",
       " volume : 46.9428220153705\n",
       "      A : 1.608145 -2.785389 0.0\n",
       "      B : 1.608145 2.785389 0.0\n",
       "      C : 0.0 0.0 5.239962\n",
       "    pbc : True True True\n",
       "PeriodicSite: Mg2+ (1.6081, -0.9285, 2.6154) [0.6667, 0.3333, 0.4991]\n",
       "PeriodicSite: Ga3+ (1.6081, 0.9285, 5.2354) [0.3333, 0.6667, 0.9991]\n",
       "PeriodicSite: N3- (1.6081, -0.9285, 4.5896) [0.6667, 0.3333, 0.8759]\n",
       "PeriodicSite: N3- (1.6081, 0.9285, 1.9696) [0.3333, 0.6667, 0.3759]"
      ]
     },
     "execution_count": null,
     "metadata": {},
     "output_type": "execute_result"
    }
   ],
   "source": [
    "mg_ga.defect_structure"
   ]
  },
  {
   "cell_type": "markdown",
   "metadata": {},
   "source": [
    "## Instantiating `FormationEnergyDiagram`\n",
    "\n",
    "The object reposible for analysing the formation energy is described by the following fields.\n",
    "\n",
    "```python\n",
    "FormationEnergyDiagram(\n",
    "    bulk_entry: 'ComputedStructureEntry',\n",
    "    defect_entries: 'List[DefectEntry]',\n",
    "    pd_entries: 'list[ComputedEntry]',\n",
    "    vbm: 'float',\n",
    "    band_gap: 'Optional[float]' = None,\n",
    "    inc_inf_values: 'bool' = True,\n",
    ")\n",
    "```\n",
    "\n",
    "Using a convenience constructor `with_directories` you can just feed in dictionary of {`str`: `Path`} \n",
    "pointing to the directories where the supercell calculations are stored.\n",
    "The keys, other than `bulk` will be the charge states of the calculations.\n",
    "As long as the `vasprun.xml` and `LOCPOT` files are in the directories the `FormaitonEnergyDiagram` object can be constructed."
   ]
  },
  {
   "cell_type": "code",
   "execution_count": null,
   "metadata": {},
   "outputs": [],
   "source": [
    "from pymatgen.analysis.defects.thermo import FormationEnergyDiagram\n",
    "from pymatgen.ext.matproj import MPRester\n",
    "from pymatgen.io.vasp import Vasprun\n",
    "import warnings\n",
    "warnings.filterwarnings('ignore')\n",
    "\n",
    "sc_dir = TEST_FILES / \"Mg_Ga\"\n",
    "ents = MPRester().get_entries_in_chemsys(\"Mg-Ga-N\", additional_criteria={\"e_above_hull\": {\"$lte\": 0.001}})\n",
    "fed = FormationEnergyDiagram.with_directories(\n",
    "    directory_map = {\"bulk\" : sc_dir / \"bulk_sc\", 0 : sc_dir / \"q=0\", -1: sc_dir / \"q=-1\", 1 : sc_dir / \"q=1\"}, \n",
    "    defect = mg_ga, \n",
    "    pd_entries = ents, \n",
    "    dielectric=10,\n",
    ")"
   ]
  },
  {
   "cell_type": "markdown",
   "metadata": {},
   "source": [
    "## Getting the formation energy diagram\n",
    "\n",
    "The chemical potential limits can be access using:"
   ]
  },
  {
   "cell_type": "code",
   "execution_count": null,
   "metadata": {},
   "outputs": [
    {
     "data": {
      "text/plain": [
       "[{Element Mg: -1.737, Element Ga: -1.675, Element N: 0},\n",
       " {Element Mg: -0.6201, Element Ga: 0, Element N: -1.675}]"
      ]
     },
     "execution_count": null,
     "metadata": {},
     "output_type": "execute_result"
    }
   ],
   "source": [
    "fed.chempot_limits"
   ]
  },
  {
   "cell_type": "markdown",
   "metadata": {},
   "source": [
    "If you have `crystal_toolkit` and the its jupyter lab extensions installed you can view the chemical potential diagram by importing `crystal_toolkit` and running a cell with the the `chempot_diagram` on the last line.\n",
    "\n",
    "```python\n",
    "import crystal_toolkit\n",
    "fed.chempot_diagram\n",
    "```\n",
    "\n",
    "Note that it is different from the hosted the material project because the elemental phases are set to zero energy.\n",
    "\n",
    "<img src=\"https://github.com/materialsproject/pymatgen-analysis-defects/blob/main/docs/source/_static/img/mg_gan_chempot.png?raw=true\" width=\"600\" />\n",
    "\n"
   ]
  },
  {
   "cell_type": "markdown",
   "metadata": {},
   "source": [
    "Now we can plot the formation energy diagram by calculating the _Fermi level_ and _formation energy_ at the different charge state transitions. "
   ]
  },
  {
   "cell_type": "code",
   "execution_count": null,
   "metadata": {},
   "outputs": [
    {
     "data": {
      "text/plain": [
       "Text(0, 0.5, 'Formation Energy(eV)')"
      ]
     },
     "execution_count": null,
     "metadata": {},
     "output_type": "execute_result"
    },
    {
     "data": {
      "image/png": "[encoded data removed]",
      "text/plain": [
       "<Figure size 432x288 with 1 Axes>"
      ]
     },
     "metadata": {
      "needs_background": "light"
     },
     "output_type": "display_data"
    }
   ],
   "source": [
    "from matplotlib import pyplot as plt\n",
    "import numpy as np\n",
    "ts = np.array(fed.get_transitions(fed.chempot_limits[1], x_max=5))\n",
    "plt.plot(ts[:,0], ts[:,1], \"-o\")\n",
    "plt.xlabel(\"Fermi Level (eV)\")\n",
    "plt.ylabel(\"Formation Energy(eV)\")"
   ]
  },
  {
   "cell_type": "code",
   "execution_count": null,
   "metadata": {},
   "outputs": [],
   "source": []
  }
 ],
 "metadata": {
  "kernelspec": {
   "display_name": "Python (mp)",
   "language": "python",
   "name": "mp"
  },
  "language_info": {
   "codemirror_mode": {
    "name": "ipython",
    "version": 3
   },
   "file_extension": ".py",
   "mimetype": "text/x-python",
   "name": "python",
   "nbconvert_exporter": "python",
   "pygments_lexer": "ipython3",
   "version": "3.9.13"
  },
  "vscode": {
   "interpreter": {
    "hash": "2d6ae331a7941ec26e1f71fb3e3784fd6821e9558b545b35bff0f95d1fd9faf9"
   }
  }
 },
 "nbformat": 4,
 "nbformat_minor": 4
}
