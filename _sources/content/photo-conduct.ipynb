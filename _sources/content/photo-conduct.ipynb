{
 "cells": [
  {
   "attachments": {},
   "cell_type": "markdown",
   "id": "37917af1-3ee4-40ea-9572-abe4f6873917",
   "metadata": {},
   "source": [
    "# Photo Conductivity\n",
    "\n",
    "When the electronic state of the defect interacts with radiation, carriers can be excited to the conduction band. This is called photoconductivity. To help elucidate how likely a defect is to cause photoconductivity, we can look at the band-decomposed contribution to the frequency-dependent dielectric function.\n",
    "Here we have replicated `VASP`'s density-density optical response calculated in the independent-particle picture in the `pymatgen.io.vasp.optics` module, and a allowed users to control which dipole matrix elements are accounted for by masking the dipole matrix elements stored in the `WAVEDER` file and manipulate the Fermi level to populate or depopulate the defect state.\n",
    "This essentially allows us to calculate the optical response for (defect)→(conduction band) and (valence band)→(defect) transitions in isolation.\n",
    "\n",
    "For more information on how `VASP` handles optical response, see the [VASP documentation](https://www.vasp.at/wiki/index.php/LOPTICS).\n",
    "\n",
    "For more details on how the python code works, please see the documentation for the `pymatgen.io.vasp.optics` module.\n"
   ]
  },
  {
   "cell_type": "code",
   "execution_count": null,
   "id": "15989624",
   "metadata": {},
   "outputs": [],
   "source": [
    "# disable tqdm progress bar\n",
    "from tqdm import tqdm\n",
    "from functools import partialmethod\n",
    "tqdm.__init__ = partialmethod(tqdm.__init__, disable=True)\n",
    "# disable warnings\n",
    "import warnings\n",
    "warnings.filterwarnings(\"ignore\", category=UserWarning)"
   ]
  },
  {
   "cell_type": "code",
   "execution_count": null,
   "id": "5f5e5e37-a158-4379-8d2f-fd6265ec7e19",
   "metadata": {},
   "outputs": [],
   "source": [
    "from pathlib import Path\n",
    "from pymatgen.analysis.defects.ccd import HarmonicDefect, get_SRH_coefficient\n",
    "from pymatgen.io.vasp.optics import DielectricFunctionCalculator, Spin, Vasprun, Waveder\n",
    "import numpy as np\n",
    "from matplotlib import pyplot as plt\n",
    "import bisect\n",
    "import collections\n",
    "TEST_FILES = Path(\"../../../tests/test_files/v_Ga/\")"
   ]
  },
  {
   "attachments": {},
   "cell_type": "markdown",
   "id": "5e035360",
   "metadata": {},
   "source": [
    "To compute the optical response of a defect we can use the `HarmonicDefect` object again.\n",
    "Although this time, since we don't need to consider the vibrational modes of the defect, we only need to pass in the directory containing the relaxed structure and the `WAVEDER` file.\n",
    "Since the `PROCAR` file is also present in the directory, the `(band, kpoint, spin)` indices representing the singular, most localized, state will be automatically determined."
   ]
  },
  {
   "cell_type": "code",
   "execution_count": null,
   "id": "218597fb",
   "metadata": {},
   "outputs": [],
   "source": [
    "dir0 = TEST_FILES / \"ccd_0_-1\" / \"optics\"\n",
    "hd0 = HarmonicDefect.from_directories(directories=[dir0], store_bandstructure=True)\n",
    "# Note the `store_bandstructure=True` argument is required for the matrix element plotting later in the notebook.\n",
    "# but not required for the dielectric function calculation.\n",
    "print(f\"The defect band is {hd0.defect_band}\")\n",
    "print(f\"The vibrational frequency is omega={hd0.omega} in this case is gibberish.\")"
   ]
  },
  {
   "attachments": {},
   "cell_type": "markdown",
   "id": "d9846871",
   "metadata": {},
   "source": [
    "## Identification of the Defect Band\n",
    "\n",
    "We can first check that the `defect_band`, identified using the `PROCAR` file, is indeed an isolated flat band in the middle of the band gap.\n",
    "While this is not always the case since we are looking at Kohn-Sham states, this is usually a good starting point.\n",
    "The user can refine the definition of the defect band by passing in a list of `(band, kpoint, spin)` indices to the `defect_band` argument of the `HarmonicDefect` object."
   ]
  },
  {
   "cell_type": "code",
   "execution_count": null,
   "id": "83b79c5e",
   "metadata": {},
   "outputs": [],
   "source": [
    "\n",
    "def print_eigs(vr, bwind=5, defect_bands = ()):\n",
    "    \"\"\"Print the eigenvalues in a small band window around the Fermi level.\n",
    "\n",
    "    Args:\n",
    "        vr (Vasprun): The Vasprun object.\n",
    "        bwind (int): The number of bands above and below the Fermi level to print.\n",
    "        defect_bands (list): A list of tuples of the form (band index, kpt index, spin index)\n",
    "    \"\"\"\n",
    "    def _get_spin_idx(spin):\n",
    "        if spin == Spin.up:\n",
    "            return 0\n",
    "        return 1\n",
    "    occ = vr.eigenvalues[Spin.up][0, :, 1] * -1\n",
    "    fermi_idx = bisect.bisect_left(occ, -0.5) \n",
    "    output = collections.defaultdict(list)\n",
    "    for k, spin_eigs in vr.eigenvalues.items():\n",
    "        spin_idx = _get_spin_idx(k)\n",
    "        for kpt in range(spin_eigs.shape[0]):\n",
    "            for ib in range(fermi_idx - bwind, fermi_idx + bwind):\n",
    "                e, o = spin_eigs[kpt, ib, :]\n",
    "                idx = (ib, kpt, spin_idx)\n",
    "                if idx in defect_bands:\n",
    "                    e_out = f\"{e:7.4f}*\"\n",
    "                else:\n",
    "                    e_out = f\"{e:8.5f}\"\n",
    "                output[(ib)].append(e_out)\n",
    "    print(\"band s=0,k=0  s=0,k=1  s=1,k=0  s=1,k=1\")\n",
    "    for ib, eigs in output.items():\n",
    "        print(f\"{ib:3d} {' '.join(eigs)}\")\n",
    "\n",
    "print_eigs(vr=hd0.vrun, defect_bands=hd0.defect_band)"
   ]
  },
  {
   "attachments": {},
   "cell_type": "markdown",
   "id": "0f68957d",
   "metadata": {},
   "source": [
    "From the eigenvalues above, we can see that isolated defect band is `[(138, 0, 1), (138, 1, 1)]` which matches with starred values determined by the data from inverse participation ratio (IPR) analysis."
   ]
  },
  {
   "attachments": {},
   "cell_type": "markdown",
   "id": "17d88220",
   "metadata": {},
   "source": [
    "## Frequency-Dependent Dielectric Function\n",
    "\n",
    "The frequency-dependent dielectric function is calculated using the `get_dielectric_function` method of the `HarmonicDefect` object.\n",
    "Which requires the `waveder` attribute of the `HarmonicDefect` object to be set."
   ]
  },
  {
   "cell_type": "code",
   "execution_count": null,
   "id": "dda9b31c",
   "metadata": {},
   "outputs": [],
   "source": [
    "hd0.waveder = Waveder.from_binary(dir0 / \"WAVEDER\")"
   ]
  },
  {
   "attachments": {},
   "cell_type": "markdown",
   "id": "a02f2c21",
   "metadata": {},
   "source": [
    "The (x,x) component of the complex dielectric function tensor for the (VBM)→(defect) and (defect)→(CBM) transitions can be obtained by calling the `get_dielectric_function` method with `idir=0, jdir=0`."
   ]
  },
  {
   "cell_type": "code",
   "execution_count": null,
   "id": "0b6869fa",
   "metadata": {},
   "outputs": [],
   "source": [
    "energy, eps_vbm, eps_cbm = hd0.get_dielectric_function(idir=0,jdir=0)\n",
    "# plotting\n",
    "plt.plot(energy, np.imag(eps_vbm), label=\"VBM\")\n",
    "plt.plot(energy, np.imag(eps_cbm), label=\"CBM\")\n",
    "plt.xlabel(\"Photon Energy (eV)\")\n",
    "plt.ylabel(r\"$\\varepsilon_{\\rm imag}$\")\n",
    "plt.xlim(0, 8)\n",
    "plt.legend();"
   ]
  },
  {
   "attachments": {},
   "cell_type": "markdown",
   "id": "fcb5e15b",
   "metadata": {},
   "source": [
    "From the dielectric function above we see that this particular defect (the Ga vacancy in the neutral `q=0` state) is much better at capturing electrons from the valence band via dipole transitions than it is at emitting electrons to the conduction band via dipole transitions.\n",
    "\n",
    "Of course for a complete picture of photoconductivity, the Frank-Condon type ofr vibrational state transition should also be considered, but we are already pushing the limits of what is acceptable in the independent-particle picture so we will leave that for another time.\n"
   ]
  },
  {
   "cell_type": "markdown",
   "id": "1fd5f0b0",
   "metadata": {},
   "source": [
    "## Dipole Matrix Elements\n",
    "\n",
    "We can also check the dipole matrix elements for the (VBM)→(defect) and (defect)→(CBM) transitions explicitly by calling the `plot_optical_transitions` method as shown below.\n",
    "The function returns a summary `pandas.DataFrame` object with the dipole matrix elements as well as the `ListedColormap` and `Normalize` objects for plotting the colorbar.  These objects can then be passed to other instances of the plotting function to ensure that the colorbar is consistent."
   ]
  },
  {
   "cell_type": "code",
   "execution_count": null,
   "id": "8e00ac9f",
   "metadata": {},
   "outputs": [],
   "source": [
    "from pymatgen.analysis.defects.plotting.optics import plot_optical_transitions\n",
    "import matplotlib as mpl\n",
    "fig, ax = plt.subplots()\n",
    "cm_ax  = fig.add_axes([0.8,0.1,0.02,0.8])\n",
    "df_k0, cmap, norm = plot_optical_transitions(hd0, kpt_index=1, band_window=5, x0=3, ax=ax)\n",
    "df_k1, _, _ = plot_optical_transitions(hd0, kpt_index=0, band_window=5, x0=0, ax=ax, cmap=cmap, norm=norm)\n",
    "mpl.colorbar.ColorbarBase(cm_ax,cmap=cmap,norm=norm,orientation='vertical')\n",
    "ax.set_ylabel(\"Energy (eV)\");\n",
    "ax.set_xticks([0,3])\n",
    "ax.set_xticklabels([\"Kpoint-0\", \"Kpoint-1\"])"
   ]
  },
  {
   "cell_type": "markdown",
   "id": "43f9e8d0",
   "metadata": {},
   "source": [
    "The `DataFrame` object containing the dipole matrix elements can also be examined directly."
   ]
  },
  {
   "cell_type": "code",
   "execution_count": null,
   "id": "d44ad8ef",
   "metadata": {},
   "outputs": [],
   "source": [
    "df_k0"
   ]
  }
 ],
 "metadata": {
  "language_info": {
   "codemirror_mode": {
    "name": "ipython",
    "version": 3
   },
   "file_extension": ".py",
   "mimetype": "text/x-python",
   "name": "python",
   "nbconvert_exporter": "python",
   "pygments_lexer": "ipython3",
   "version": "3.9.16"
  }
 },
 "nbformat": 4,
 "nbformat_minor": 5
}
