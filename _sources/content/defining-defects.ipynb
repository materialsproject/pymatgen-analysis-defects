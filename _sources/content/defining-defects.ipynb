{
 "cells": [
  {
   "attachments": {},
   "cell_type": "markdown",
   "metadata": {},
   "source": [
    "# Defining Defects\n",
    "\n",
    "A persistent challenge with organizing computational defect data is the ambiguity with which a defect simulation is defined.\n",
    "The standard practice is to simulate the isolated defects by using a larger simulation to create an isolated defect and then using charge-state corrections to approximate the properties of a defect in the dilute limit.\n",
    "This means that the same defect can be simulated with different simulation cells.\n",
    "Ideally, if you want to build a computational defects database that lasts many years, you cannot rely on user-supplied provenance to aggregate the data.\n",
    "You must have the external method for tracking whether two calculations are for the same defect.\n",
    "\n",
    "<div class=\"alert alert-block alert-info\"><b>Note:</b> This is only important for large database building. For an example of this please see the Materials Project battery database which only relies on structure matching to arrive at the list of insertion electrodes.\n",
    "</div>\n",
    "\n",
    "A core concept in this package is that a defect is defined independently of the simulation cell.\n",
    "All of the information about which defect we are simulating is captured by the `Defect` object.\n",
    "A point defect is defined by the Wigner-Seitz unit cell representation of the bulk material stored as a `structure` attribute and a `site` attribute that indicates where the defect is in the unit cell.\n",
    "Different kinds of point defects all subclass the `Defect` objects which gives easy access to functions such as generating a cubic simulation supercell.\n",
    "As along as the database or any algorithm keeps track of this `Defect` object, you can just use simple structure matching to find out if two simulations represent the same defect.\n"
   ]
  },
  {
   "cell_type": "markdown",
   "metadata": {},
   "source": [
    "## Basic Example Using GaN"
   ]
  },
  {
   "cell_type": "code",
   "execution_count": null,
   "metadata": {},
   "outputs": [],
   "source": [
    "from pathlib import Path\n",
    "\n",
    "TEST_FILES = Path(\"../../../tests/test_files\")"
   ]
  },
  {
   "cell_type": "code",
   "execution_count": null,
   "metadata": {},
   "outputs": [],
   "source": [
    "from pymatgen.analysis.defects.core import DefectComplex, Substitution, Vacancy\n",
    "from pymatgen.core import PeriodicSite, Species, Structure\n",
    "\n",
    "bulk = Structure.from_file(TEST_FILES / \"GaN.vasp\")\n",
    "if (\n",
    "    bulk.lattice == bulk.get_primitive_structure().lattice\n",
    "):  # check that you have the primitive structure\n",
    "    print(\"The bulk unit cell is the unique primitive WS cell\")"
   ]
  },
  {
   "attachments": {},
   "cell_type": "markdown",
   "metadata": {},
   "source": [
    "Since the two Ga sites are equivalent the Mg substitution we derive from both should be equivalent.\n"
   ]
  },
  {
   "cell_type": "code",
   "execution_count": null,
   "metadata": {},
   "outputs": [],
   "source": [
    "ga_site0 = bulk.sites[0]\n",
    "ga_site1 = bulk.sites[1]\n",
    "n_site0 = bulk.sites[2]\n",
    "n_site1 = bulk.sites[3]\n",
    "\n",
    "mg_site0 = PeriodicSite(Species(\"Mg\"), ga_site0.frac_coords, bulk.lattice)\n",
    "mg_site1 = PeriodicSite(Species(\"Mg\"), ga_site1.frac_coords, bulk.lattice)"
   ]
  },
  {
   "cell_type": "code",
   "execution_count": null,
   "metadata": {},
   "outputs": [],
   "source": [
    "mg_ga_defect0 = Substitution(structure=bulk, site=mg_site0)\n",
    "mg_ga_defect1 = Substitution(structure=bulk, site=mg_site1)\n",
    "if mg_ga_defect0 == mg_ga_defect1:\n",
    "    print(\"The two Mg_Ga defects are equivalent.\")"
   ]
  },
  {
   "attachments": {},
   "cell_type": "markdown",
   "metadata": {},
   "source": [
    "Equivalence here is determined using the standard StructureMatcher settings.\n",
    "\n",
    "```python\n",
    "    def __eq__(self, __o: object) -> bool:\n",
    "        \"\"\"Equality operator.\"\"\"\n",
    "        if not isinstance(__o, Defect):\n",
    "            raise TypeError(\"Can only compare Defects to Defects\")\n",
    "        sm = StructureMatcher(comparator=ElementComparator())\n",
    "        return sm.fit(self.defect_structure, __o.defect_structure)\n",
    "```\n",
    "\n",
    "If you are in the situation where your lattice parameters have changed overtime (i.e. by inclusion of different functionals) you might consider using more custom maching between the defect.\n",
    "\n",
    "Since the defect equivalence is only determined by the `defect_structure` field, all defects can be compared using `__eq__`.\n"
   ]
  },
  {
   "cell_type": "code",
   "execution_count": null,
   "metadata": {},
   "outputs": [],
   "source": [
    "vac_defect0 = Vacancy(structure=bulk, site=mg_site0)\n",
    "vac_defect1 = Vacancy(structure=bulk, site=n_site0)\n",
    "vac_defect2 = Vacancy(structure=bulk, site=n_site1)\n",
    "if vac_defect0 != vac_defect1:\n",
    "    print(\n",
    "        f\"The two vacancies {vac_defect0.name} and {vac_defect1.name} are not equivalent.\"\n",
    "    )\n",
    "\n",
    "if vac_defect2 == vac_defect1:\n",
    "    print(\n",
    "        f\"The two vacancies {vac_defect2.name} and {vac_defect1.name} are equivalent.\"\n",
    "    )"
   ]
  },
  {
   "attachments": {},
   "cell_type": "markdown",
   "metadata": {},
   "source": [
    "## Defining Defect Complexes\n",
    "\n",
    "Defining defect complexes can be done by providing a list of defect objects generated using the same pristine structure.\n"
   ]
  },
  {
   "cell_type": "code",
   "execution_count": null,
   "metadata": {},
   "outputs": [],
   "source": [
    "def_comp0 = DefectComplex(defects=[mg_ga_defect0, vac_defect1])\n",
    "def_comp1 = DefectComplex(defects=[mg_ga_defect1, vac_defect1])\n",
    "def_comp2 = DefectComplex(defects=[mg_ga_defect1, vac_defect2])"
   ]
  },
  {
   "attachments": {},
   "cell_type": "markdown",
   "metadata": {},
   "source": [
    "The `defect_structure` for each complex is shown blow.\n",
    "\n",
    "<img src=\"https://raw.githubusercontent.com/materialsproject/pymatgen-analysis-defects/main/docs/source/_static/img/defect_complex_equiv.png\" width=\"800\"/>\n",
    "\n",
    "By inspection it is clear that `def_comp0` and `def_comp2` are symmetrically equivalent to each other and distinct from `def_comp1`, and our basic implementation of defect equivalence is able to verify this:\n"
   ]
  },
  {
   "cell_type": "code",
   "execution_count": null,
   "metadata": {},
   "outputs": [],
   "source": [
    "assert def_comp0 == def_comp2\n",
    "assert def_comp0 != def_comp1"
   ]
  },
  {
   "attachments": {},
   "cell_type": "markdown",
   "metadata": {},
   "source": [
    "However some defect complexes might become nonequivalent based on the periodic image you consider for the combination of sites.\n",
    "\n",
    "<div class=\"alert alert-block alert-info\"><b>Note:</b> To deal with these edge cases, we might have to add a dummy \"DefectComplex\" species at the \"center\" of the defect complex which will fix the selection of periodic for the different sites.  This is easy to implement but should be done when there is a good test case.\n",
    "</div>\n"
   ]
  },
  {
   "attachments": {},
   "cell_type": "markdown",
   "metadata": {},
   "source": [
    "## Obtaining the Simulation Supercell\n",
    "\n",
    "The simplest way to generate a supercell for simulating the defect is to just call the `get_supercell_structure` method for the defect.\n",
    "\n",
    "Note that, under the hood, the `get_supercell_structure` method first attempts a \"quick and dirty\" inversion of a large cube in the bases of the lattice parameters.\n",
    "If a valid supercell is not discovered this way, ASE's `find_optimal_cell_shape` will be called to exhaustively search for the best supercell structure.\n"
   ]
  },
  {
   "cell_type": "code",
   "execution_count": null,
   "metadata": {},
   "outputs": [],
   "source": [
    "sc_struct = mg_ga_defect0.get_supercell_structure()\n",
    "sc_struct.num_sites"
   ]
  },
  {
   "attachments": {},
   "cell_type": "markdown",
   "metadata": {},
   "source": [
    "The supercell generated with default settings looks like this:\n",
    "\n",
    "<img src=\"https://raw.githubusercontent.com/materialsproject/pymatgen-analysis-defects/main/docs/source/_static/img/defect_mg_ga_sc.png\" width=\"300\"/>\n",
    "\n",
    "You can also reduce the `max_atoms` field to obtain a smaller simulation cell.\n",
    "Note that in this case, the conditions for the for cubic cell cannot be satisfied by the lattice vector inversion approach and the more expensive algorithm from ASE will be used. Uncomment the following cell to see this in action.\n"
   ]
  },
  {
   "cell_type": "code",
   "execution_count": null,
   "metadata": {},
   "outputs": [],
   "source": [
    "#sc_struct_smaller = mg_ga_defect0.get_supercell_structure(max_atoms=100)\n",
    "#sc_struct_smaller.num_sites"
   ]
  }
 ],
 "metadata": {
  "language_info": {
   "codemirror_mode": {
    "name": "ipython",
    "version": 3
   },
   "file_extension": ".py",
   "mimetype": "text/x-python",
   "name": "python",
   "nbconvert_exporter": "python",
   "pygments_lexer": "ipython3",
   "version": "3.10.6 | packaged by conda-forge | (main, Aug 22 2022, 20:38:29) [Clang 13.0.1 ]"
  },
  "vscode": {
   "interpreter": {
    "hash": "68485e4e4f6ba0276341f7d764a6dd3a7d31473cb629faa542bbbd38a80276a6"
   }
  }
 },
 "nbformat": 4,
 "nbformat_minor": 4
}
