{
 "cells": [
  {
   "cell_type": "markdown",
   "id": "6930b94a-4443-45b0-94a5-452f6280fd5a",
   "metadata": {},
   "source": [
    "# Shockley-Read-Hall Recombination\n",
    "\n",
    "Shockley-Read-Hall (SRH) recombination is the dominant recombination mechanism at lower carrier concentrations.\n",
    "First-principles calculations of the SRH recombination rate were pioneered in the Van de Walle group at the University of California, Santa Barbara by Prof. Audrius Alisauskas {cite:p}`Alkauskas2014Aug`.\n",
    "Additional development have been made to better integrate the methodology with existing projector-augmented wave methods in `VASP` to enable much faster calculations of the SRH recombination rate. For a more detailed account of the methodology, please see the following reference: {cite:p}`Shen2018`.\n"
   ]
  },
  {
   "cell_type": "code",
   "execution_count": null,
   "id": "239c7281-3a24-49cb-a161-64124c59dbc4",
   "metadata": {},
   "outputs": [],
   "source": [
    "# disable warnings\n",
    "import warnings\n",
    "warnings.filterwarnings(\"ignore\", category=UserWarning)\n",
    "from pathlib import Path\n",
    "import numpy as np\n",
    "from matplotlib import pyplot as plt\n",
    "from pymatgen.analysis.defects.ccd import HarmonicDefect, get_SRH_coefficient"
   ]
  },
  {
   "cell_type": "code",
   "execution_count": null,
   "id": "2d5264bc-c907-4d74-bb70-bc79c9050e7a",
   "metadata": {},
   "outputs": [],
   "source": [
    "TEST_FILES = Path(\"../../../tests/test_files/v_Ga/\")"
   ]
  },
  {
   "cell_type": "markdown",
   "id": "e410b507-e465-438b-95e3-64dce28f6f00",
   "metadata": {},
   "source": [
    "## Read a single Harmonic Defect\n",
    "\n",
    "We can parse an sorted list of directories with `HarmonicDefect.from_directories`.\n",
    "This will look into each directory for a `vasprun.xml` file from which the structures and energies will be extracted.\n",
    "\n",
    "The different constructors for `HarmonicDefect` all accept a list of sources where the energies and structures come from.\n",
    "The relaxed structure will be taken from the `relaxed_index` entry from this list and the electronic structure from this entry will be parsed to help identify the defect band in the band structure.\n"
   ]
  },
  {
   "cell_type": "code",
   "execution_count": null,
   "id": "ceaa50d4-57d2-4438-80e7-7cb4491985c1",
   "metadata": {},
   "outputs": [],
   "source": [
    "dirs01 = [TEST_FILES / \"ccd_0_-1\" / str(i) for i in [0, 1, 2]]\n",
    "hd0 = HarmonicDefect.from_directories(\n",
    "    directories=dirs01,\n",
    "    store_bandstructure=True,\n",
    ")\n",
    "print(f\"The relaxed structure is in dirs01[{hd0.relaxed_index}]\")\n",
    "print(hd0)\n",
    "print(\n",
    "    f\"The spin channel ({hd0.spin}) is also automaticalliy determined by the \"\n",
    "    \"IPR, by taking the spin channel who's defect states have the lowest average IPR across the different k-points.\"\n",
    ")"
   ]
  },
  {
   "cell_type": "markdown",
   "id": "8e0c86ec-8fa4-4399-9900-c161b8149fbe",
   "metadata": {},
   "source": [
    "Note that `HarmonicDefect.defect_band` consists of multiple states presented as `(iband, ikpt, ispin)` index tuples, if `defect_band` was not provided to the constructor, the `relaxed_index` entry in the directory list will be checked for a Procar file, which will be parsed to give the \"best guess\" of the defect state in the band structure.\n",
    "The band index is automatically determined by the inverse participation ratio.\n",
    "Note that the defect state reports the \"most-localized\" bands at each k-point so it is possible for the band index of the defect band to change for different kpoint indices `ikpt`.\n",
    "\n",
    "<div class=\"alert alert-block alert-info\"><b>Note:</b> The automated defect state identification is still in testing you can provide the `defect_band` manually to over-ride the automatic behavior if you notice any issues.\n",
    "Please report any issues you encounter to the github issue tracker.\n",
    "</div>\n"
   ]
  },
  {
   "cell_type": "markdown",
   "id": "43e620e9-93be-4883-b3a0-ecf5218a6355",
   "metadata": {},
   "source": [
    "### Potential energy surface\n",
    "\n",
    "The potential energy surface of the defect in a particular charge state is given by:\n",
    "\n",
    "$$\\frac{1}{2} \\omega^2 Q^2$$\n"
   ]
  },
  {
   "cell_type": "code",
   "execution_count": null,
   "id": "c4226814-ccfc-41f9-8eeb-5ad6a2d58eeb",
   "metadata": {},
   "outputs": [],
   "source": [
    "plt.plot(\n",
    "    hd0.distortions,\n",
    "    (np.array(hd0.energies) - hd0.energies[hd0.relaxed_index]) * 1000,\n",
    "    \"o\",\n",
    "    ms=10,\n",
    ")\n",
    "xx = np.linspace(-0.2, 0.2, 20)\n",
    "yy = 0.5 * hd0.omega**2 * xx**2\n",
    "plt.plot(xx, yy * 1000)\n",
    "plt.xlabel(\"Q [amu$^{1/2}$Å]\")\n",
    "plt.ylabel(\"Energy [meV]\");"
   ]
  },
  {
   "cell_type": "markdown",
   "id": "d169180d",
   "metadata": {},
   "source": [
    "The band structure of the relaxed structure has a state that can be identified as the defect state using the inverse participation ratio."
   ]
  },
  {
   "cell_type": "code",
   "execution_count": null,
   "id": "a8b9111d-40dd-4be5-ac24-2140c4ce7570",
   "metadata": {
    "tags": []
   },
   "outputs": [],
   "source": [
    "bs = hd0.relaxed_bandstructure\n",
    "eigs = bs.bands[hd0.spin][:, 1]\n",
    "eigs_ref_efermi = eigs\n",
    "plt.hlines([eigs_ref_efermi], 0, 1)\n",
    "plt.hlines(eigs_ref_efermi[hd0.defect_band_index], 0, 1, colors=\"red\")\n",
    "plt.ylim(bs.efermi - 0.1, bs.efermi + 2.5)\n",
    "plt.xticks([])\n",
    "plt.ylabel(f\"Energy Level Spin:{hd0.spin}\");"
   ]
  },
  {
   "cell_type": "markdown",
   "id": "104ac837",
   "metadata": {},
   "source": [
    "## Evaluating the Electron-Phonon Matrix Element with PAWs\n",
    "\n",
    "Methods for evaluating electron-phonon interactions in solids from ab initio calculations are well established.\n",
    "We use the frozen-phonon method, whereby all the atoms in a supercell are displaced according to the eigenmode of the special phonon. \n",
    "The coupling between of the atomic displacements and the electronic properties of the system is represented by the electron-phonon matrix element (epME). \n",
    "The epME of the special phonon (parameterized by Q) is given by:\n",
    "\n",
    "$$ W_{if} = \\left< \\psi_i \\left| \\frac{\\partial \\hat h}{\\partial Q} \\right| \\psi_f \\right> \n",
    "= (\\varepsilon_i - \\varepsilon_f) \\frac{\\left<\\psi_f | \\psi_i({\\delta Q}) \\right>}{\\delta Q}$$\n",
    "\n",
    "Note the the initial and final states here are determined by the process you are studying.\n",
    "If you are looking at defect capture, the initial state will be the band edge state and the final state will be the defect state.\n",
    "The overlap above is for the all-electron wavefunction, under the PAW formalism in VASP the overlap in the expression above can be expressed using the psuedo-wavefunctions $\\tilde \\psi_{i,f}$ and the overlap operator $\\hat S$:\n",
    "\n",
    "$$ W_{if} =  (\\varepsilon_i - \\varepsilon_f) \\frac{\\left<\\tilde \\psi_f |\\hat S |\\tilde \\psi_i({\\delta Q}) \\right>}{\\delta Q}$$\n",
    "\n",
    "This expression above can be calculated VASP version 6 and above by copying the `WAVECAR` file from the displaced (δQ) structure into the directory that already contains the relaxed calculations directory as `WAVECAR.QQQ` and then running VASP with `LWSWQ = .TRUE.`.\n",
    "This will calculate the overlap part in the expression above and write it into the `WSWQ` file.\n",
    "Automatic parsing of the `WSWQ` file has been implmented in `pymatgen.io.vasp.outputs`.\n",
    "The `HarmonicDefect.get_elph_me` method will read a list of `WSWQ` objects and compute the epME via finite difference by calculating the overlap for a series of displacements.\n",
    "\n",
    "To compute the electron phonon matrix element, we must first populate the `wswq` attribute of the `HarmonicDefect` object by reading the `WSWQ` files from a directory where they have been labeled in `WSWQ.i` where the index `i` is used to sort the `WSWQ` files to help compute the epME via finite difference.\n",
    "As an example, we will use the three `WSWQ` files in the generated by the three displaces in `hd0`\n"
   ]
  },
  {
   "cell_type": "code",
   "execution_count": null,
   "id": "7c149d93",
   "metadata": {},
   "outputs": [],
   "source": [
    "wswq_dir = TEST_FILES / \"ccd_0_-1\" / \"wswqs\"\n",
    "print(f\"The parsed WSWQ files are: {[f.name for f in wswq_dir.glob('WSWQ*')]}\")\n",
    "hd0.read_wswqs(TEST_FILES / \"ccd_0_-1\" / \"wswqs\")\n",
    "print(f\"Parsed {len(hd0.wswqs)} WSWQ files.\")\n"
   ]
  },
  {
   "cell_type": "markdown",
   "id": "d7f9b645",
   "metadata": {},
   "source": [
    "The epME is computed by the `HarmonicDefect.get_elph_me` method, which requires the defect band index.\n",
    "Since we know the band edge state is at the Gamma point from analyzing the bulk cell and that the second kpoint index is Gamma in our supercell calculations, can pass the `ikpt = 1` defect electronic state into the `get_elph_me` method."
   ]
  },
  {
   "cell_type": "code",
   "execution_count": null,
   "id": "433f5f29",
   "metadata": {},
   "outputs": [],
   "source": [
    "print(f\"The automatically determined defect electronic states are: {hd0.defect_band} \"\n",
    "    \"(with [band, k-point, spin] indexing).\")\n",
    "epME = hd0.get_elph_me(defect_state=(138, 1, 1))\n",
    "print(f\"The resulting array of shape {epME.shape} contains the matrix elements from the \"\n",
    "    \"defect state to all other states at the same k-point.\")\n"
   ]
  },
  {
   "cell_type": "markdown",
   "id": "66aafe95",
   "metadata": {},
   "source": [
    "## Calculating the SRH Capture Coefficient\n",
    "\n",
    "To calculate the Shockley-Read-Hall (SRH) capture coefficient, we also need the potential energy surface of the final state."
   ]
  },
  {
   "cell_type": "code",
   "execution_count": null,
   "id": "133e213c",
   "metadata": {},
   "outputs": [],
   "source": [
    "dirs10 = [TEST_FILES / \"ccd_-1_0\" / str(i) for i in [0, 1, 2]]\n",
    "hd1 = HarmonicDefect.from_directories(\n",
    "    directories=dirs10,\n",
    "    store_bandstructure=True,\n",
    ")\n"
   ]
  },
  {
   "cell_type": "markdown",
   "id": "a7d97c23",
   "metadata": {},
   "source": [
    "With the initial and final potential energy surfaces, and the `WSWQ` data for the initial state, we can calculate the SRH capture coefficient using the `get_SRH_coefficient` function to compute the capture coefficient as a function of temperature."
   ]
  },
  {
   "cell_type": "code",
   "execution_count": null,
   "id": "2f08c3b9",
   "metadata": {},
   "outputs": [],
   "source": [
    "T = np.linspace(100, 1000, 20)\n",
    "srh_c = get_SRH_coefficient(initial_state=hd0, final_state=hd1, defect_state=(138, 1, 1), T=T, dE=0.3)\n",
    "plt.plot(T, srh_c)\n",
    "plt.xlabel(\"Temperature [K]\")\n",
    "plt.ylabel(\"SRH coefficient [cm$^{-3}$s$^{-1}$]\");"
   ]
  }
 ],
 "metadata": {
  "language_info": {
   "codemirror_mode": {
    "name": "ipython",
    "version": 3
   },
   "file_extension": ".py",
   "mimetype": "text/x-python",
   "name": "python",
   "nbconvert_exporter": "python",
   "pygments_lexer": "ipython3",
   "version": "3.10.6 | packaged by conda-forge | (main, Aug 22 2022, 20:38:29) [Clang 13.0.1 ]"
  },
  "vscode": {
   "interpreter": {
    "hash": "68485e4e4f6ba0276341f7d764a6dd3a7d31473cb629faa542bbbd38a80276a6"
   }
  }
 },
 "nbformat": 4,
 "nbformat_minor": 5
}
