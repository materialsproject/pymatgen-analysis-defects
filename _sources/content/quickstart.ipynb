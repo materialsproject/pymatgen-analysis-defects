{
 "cells": [
  {
   "cell_type": "markdown",
   "metadata": {
    "tags": []
   },
   "source": [
    "# Quick Start\n",
    "\n",
    "## Installation\n",
    "\n",
    "The package can be installed from PyPI using `pip install pymatgen-analysis-defects`. \n",
    "\n",
    "Once installed, the different modules can be imported via the `pymatgen.analysis.defects` namespace.\n",
    "\n",
    "```python\n",
    "from pymatgen.analysis.defects import core, ccd, finder\n",
    "```\n",
    "\n",
    "To ensure that the namespace is installed properly run"
   ]
  },
  {
   "cell_type": "code",
   "execution_count": null,
   "metadata": {},
   "outputs": [],
   "source": [
    "from pymatgen.analysis.defects.core import __file__"
   ]
  },
  {
   "cell_type": "markdown",
   "metadata": {},
   "source": [
    "and look at the `__file__` variable to make sure that it is accessing the code from `pymatgen-analysis-defect` and not `pymatgen`."
   ]
  },
  {
   "attachments": {},
   "cell_type": "markdown",
   "metadata": {},
   "source": [
    "## Definition of a defect\n",
    "\n",
    "Our code defines defects using a combination of bulk structure and sites.\n",
    "Since the bulk primitive structure is, in principle, unique up to arbitrary translations, equivalence of defects can be now easily checked using `StructureMatcher`.\n",
    "\n",
    "Below we show how you can create a basic substitutional defect from a `pymatgen.core.Structure` object by replacing one of the Ga atoms in GaN with Mg.\n",
    "\n",
    "Note that we create a Mg<sub>Ga</sub> defect by creating a PeriodicSite Object `mg_ga` with the data of the first Ga site but \n"
   ]
  },
  {
   "cell_type": "code",
   "execution_count": null,
   "metadata": {},
   "outputs": [],
   "source": [
    "from pathlib import Path\n",
    "\n",
    "from pymatgen.analysis.defects.core import Substitution\n",
    "from pymatgen.core import PeriodicSite, Species, Structure\n",
    "\n",
    "TEST_FILES = Path(\"../../../tests/test_files\")"
   ]
  },
  {
   "cell_type": "code",
   "execution_count": null,
   "metadata": {},
   "outputs": [],
   "source": [
    "gan_struct = Structure.from_file(TEST_FILES / \"GaN.vasp\")\n",
    "# make a substitution site\n",
    "ga_site = gan_struct[0]\n",
    "mg_site = PeriodicSite(\n",
    "    species=Species(\"Mg\"), coords=ga_site.frac_coords, lattice=gan_struct.lattice\n",
    ")\n",
    "# instantiate the defect object\n",
    "mg_ga = Substitution(structure=gan_struct, site=mg_site)\n",
    "print(mg_ga)"
   ]
  },
  {
   "cell_type": "code",
   "execution_count": null,
   "metadata": {},
   "outputs": [],
   "source": [
    "mg_ga.defect_structure"
   ]
  },
  {
   "cell_type": "markdown",
   "metadata": {},
   "source": [
    "## Instantiating `FormationEnergyDiagram`\n",
    "\n",
    "The object responsible for analyzing the formation energy is described by the following fields.\n",
    "\n",
    "```python\n",
    "FormationEnergyDiagram(\n",
    "    bulk_entry: 'ComputedStructureEntry',\n",
    "    defect_entries: 'List[DefectEntry]',\n",
    "    pd_entries: 'list[ComputedEntry]',\n",
    "    vbm: 'float',\n",
    "    band_gap: 'Optional[float]' = None,\n",
    "    inc_inf_values: 'bool' = True,\n",
    ")\n",
    "```\n",
    "\n",
    "Using a convenience constructor `with_directories` you can just feed in dictionary of {`str`: `Path`} \n",
    "pointing to the directories where the supercell calculations are stored.\n",
    "The keys, other than `bulk` will be the charge states of the calculations.\n",
    "As long as the `vasprun.xml` and `LOCPOT` files are in the directories the `FormationEnergyDiagram` object can be constructed."
   ]
  },
  {
   "cell_type": "code",
   "execution_count": null,
   "metadata": {},
   "outputs": [],
   "source": [
    "import warnings\n",
    "\n",
    "from monty.serialization import loadfn\n",
    "from pymatgen.analysis.defects.thermo import FormationEnergyDiagram\n",
    "from pymatgen.io.vasp import Vasprun\n",
    "\n",
    "warnings.filterwarnings(\"ignore\")\n",
    "\n",
    "sc_dir = TEST_FILES / \"Mg_Ga\"\n",
    "# ents = MPRester().get_entries_in_chemsys(\"Mg-Ga-N\") # Query from MPRester\n",
    "ents = loadfn(TEST_FILES / \"Ga_Mg_N.json\")  # Load from local\n",
    "fed = FormationEnergyDiagram.with_directories(\n",
    "    directory_map={\n",
    "        \"bulk\": sc_dir / \"bulk_sc\",\n",
    "        0: sc_dir / \"q=0\",\n",
    "        -1: sc_dir / \"q=-1\",\n",
    "        1: sc_dir / \"q=1\",\n",
    "    },\n",
    "    defect=mg_ga,\n",
    "    pd_entries=ents,\n",
    "    dielectric=10,\n",
    ")"
   ]
  },
  {
   "cell_type": "markdown",
   "metadata": {},
   "source": [
    "## Getting the formation energy diagram\n",
    "\n",
    "The chemical potential limits can be access using:"
   ]
  },
  {
   "cell_type": "code",
   "execution_count": null,
   "metadata": {},
   "outputs": [],
   "source": [
    "fed.chempot_limits"
   ]
  },
  {
   "cell_type": "markdown",
   "metadata": {},
   "source": [
    "If you have `crystal_toolkit` and the its jupyter lab extensions installed you can view the chemical potential diagram by importing `crystal_toolkit` and running a cell with the the `chempot_diagram` on the last line.\n",
    "\n",
    "```python\n",
    "import crystal_toolkit\n",
    "fed.chempot_diagram\n",
    "```\n",
    "\n",
    "Note that it is different from chemical potential plot hosted on the material project because the elemental phases are set to zero energy.\n",
    "\n",
    "<img src=\"https://github.com/materialsproject/pymatgen-analysis-defects/blob/main/docs/source/_static/img/mg_gan_chempot.png?raw=true\" width=\"600\" />\n",
    "\n"
   ]
  },
  {
   "cell_type": "markdown",
   "metadata": {},
   "source": [
    "Now we can plot the formation energy diagram by calculating the _Fermi level_ and _formation energy_ at the different charge state transitions. "
   ]
  },
  {
   "cell_type": "code",
   "execution_count": null,
   "metadata": {},
   "outputs": [],
   "source": [
    "import numpy as np\n",
    "from matplotlib import pyplot as plt\n",
    "\n",
    "ts = np.array(fed.get_transitions(fed.chempot_limits[1], x_max=5))\n",
    "plt.plot(ts[:, 0], ts[:, 1], \"-o\")\n",
    "plt.xlabel(\"Fermi Level (eV)\")\n",
    "plt.ylabel(\"Formation Energy(eV)\")"
   ]
  }
 ],
 "metadata": {
  "language_info": {
   "codemirror_mode": {
    "name": "ipython",
    "version": 3
   },
   "file_extension": ".py",
   "mimetype": "text/x-python",
   "name": "python",
   "nbconvert_exporter": "python",
   "pygments_lexer": "ipython3",
   "version": "3.10.6 | packaged by conda-forge | (main, Aug 22 2022, 20:38:29) [Clang 13.0.1 ]"
  },
  "vscode": {
   "interpreter": {
    "hash": "68485e4e4f6ba0276341f7d764a6dd3a7d31473cb629faa542bbbd38a80276a6"
   }
  }
 },
 "nbformat": 4,
 "nbformat_minor": 4
}
